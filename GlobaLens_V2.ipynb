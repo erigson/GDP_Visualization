{
 "cells": [
  {
   "cell_type": "code",
   "execution_count": 1,
   "id": "b07f8799",
   "metadata": {},
   "outputs": [],
   "source": [
    "#import packages\n",
    "import pandas as pd\n",
    "import numpy as np\n",
    "import seaborn as sns\n",
    "import matplotlib.pyplot as plt\n",
    "from sklearn.linear_model import LinearRegression\n",
    "from sklearn.model_selection import train_test_split\n",
    "from sklearn.metrics import mean_squared_error\n",
    "from sklearn.preprocessing import StandardScaler\n",
    "import math\n",
    "import statsmodels.api as sm"
   ]
  },
  {
   "cell_type": "code",
   "execution_count": 2,
   "id": "525a62cb",
   "metadata": {},
   "outputs": [
    {
     "ename": "FileNotFoundError",
     "evalue": "[Errno 2] No such file or directory: 'C:\\\\Users\\\\thema\\\\OneDrive\\\\Projects\\\\__CTP4900__\\\\Data\\\\world_Bank.csv'",
     "output_type": "error",
     "traceback": [
      "\u001b[1;31m---------------------------------------------------------------------------\u001b[0m",
      "\u001b[1;31mFileNotFoundError\u001b[0m                         Traceback (most recent call last)",
      "Cell \u001b[1;32mIn[2], line 1\u001b[0m\n\u001b[1;32m----> 1\u001b[0m df \u001b[38;5;241m=\u001b[39m pd\u001b[38;5;241m.\u001b[39mread_csv(\u001b[38;5;124mr\u001b[39m\u001b[38;5;124m\"\u001b[39m\u001b[38;5;124mC:\u001b[39m\u001b[38;5;124m\\\u001b[39m\u001b[38;5;124mUsers\u001b[39m\u001b[38;5;124m\\\u001b[39m\u001b[38;5;124mthema\u001b[39m\u001b[38;5;124m\\\u001b[39m\u001b[38;5;124mOneDrive\u001b[39m\u001b[38;5;124m\\\u001b[39m\u001b[38;5;124mProjects\u001b[39m\u001b[38;5;124m\\\u001b[39m\u001b[38;5;124m__CTP4900__\u001b[39m\u001b[38;5;124m\\\u001b[39m\u001b[38;5;124mData\u001b[39m\u001b[38;5;124m\\\u001b[39m\u001b[38;5;124mworld_Bank.csv\u001b[39m\u001b[38;5;124m\"\u001b[39m)\n",
      "File \u001b[1;32m~\\anaconda3\\Lib\\site-packages\\pandas\\io\\parsers\\readers.py:912\u001b[0m, in \u001b[0;36mread_csv\u001b[1;34m(filepath_or_buffer, sep, delimiter, header, names, index_col, usecols, dtype, engine, converters, true_values, false_values, skipinitialspace, skiprows, skipfooter, nrows, na_values, keep_default_na, na_filter, verbose, skip_blank_lines, parse_dates, infer_datetime_format, keep_date_col, date_parser, date_format, dayfirst, cache_dates, iterator, chunksize, compression, thousands, decimal, lineterminator, quotechar, quoting, doublequote, escapechar, comment, encoding, encoding_errors, dialect, on_bad_lines, delim_whitespace, low_memory, memory_map, float_precision, storage_options, dtype_backend)\u001b[0m\n\u001b[0;32m    899\u001b[0m kwds_defaults \u001b[38;5;241m=\u001b[39m _refine_defaults_read(\n\u001b[0;32m    900\u001b[0m     dialect,\n\u001b[0;32m    901\u001b[0m     delimiter,\n\u001b[1;32m   (...)\u001b[0m\n\u001b[0;32m    908\u001b[0m     dtype_backend\u001b[38;5;241m=\u001b[39mdtype_backend,\n\u001b[0;32m    909\u001b[0m )\n\u001b[0;32m    910\u001b[0m kwds\u001b[38;5;241m.\u001b[39mupdate(kwds_defaults)\n\u001b[1;32m--> 912\u001b[0m \u001b[38;5;28;01mreturn\u001b[39;00m _read(filepath_or_buffer, kwds)\n",
      "File \u001b[1;32m~\\anaconda3\\Lib\\site-packages\\pandas\\io\\parsers\\readers.py:577\u001b[0m, in \u001b[0;36m_read\u001b[1;34m(filepath_or_buffer, kwds)\u001b[0m\n\u001b[0;32m    574\u001b[0m _validate_names(kwds\u001b[38;5;241m.\u001b[39mget(\u001b[38;5;124m\"\u001b[39m\u001b[38;5;124mnames\u001b[39m\u001b[38;5;124m\"\u001b[39m, \u001b[38;5;28;01mNone\u001b[39;00m))\n\u001b[0;32m    576\u001b[0m \u001b[38;5;66;03m# Create the parser.\u001b[39;00m\n\u001b[1;32m--> 577\u001b[0m parser \u001b[38;5;241m=\u001b[39m TextFileReader(filepath_or_buffer, \u001b[38;5;241m*\u001b[39m\u001b[38;5;241m*\u001b[39mkwds)\n\u001b[0;32m    579\u001b[0m \u001b[38;5;28;01mif\u001b[39;00m chunksize \u001b[38;5;129;01mor\u001b[39;00m iterator:\n\u001b[0;32m    580\u001b[0m     \u001b[38;5;28;01mreturn\u001b[39;00m parser\n",
      "File \u001b[1;32m~\\anaconda3\\Lib\\site-packages\\pandas\\io\\parsers\\readers.py:1407\u001b[0m, in \u001b[0;36mTextFileReader.__init__\u001b[1;34m(self, f, engine, **kwds)\u001b[0m\n\u001b[0;32m   1404\u001b[0m     \u001b[38;5;28mself\u001b[39m\u001b[38;5;241m.\u001b[39moptions[\u001b[38;5;124m\"\u001b[39m\u001b[38;5;124mhas_index_names\u001b[39m\u001b[38;5;124m\"\u001b[39m] \u001b[38;5;241m=\u001b[39m kwds[\u001b[38;5;124m\"\u001b[39m\u001b[38;5;124mhas_index_names\u001b[39m\u001b[38;5;124m\"\u001b[39m]\n\u001b[0;32m   1406\u001b[0m \u001b[38;5;28mself\u001b[39m\u001b[38;5;241m.\u001b[39mhandles: IOHandles \u001b[38;5;241m|\u001b[39m \u001b[38;5;28;01mNone\u001b[39;00m \u001b[38;5;241m=\u001b[39m \u001b[38;5;28;01mNone\u001b[39;00m\n\u001b[1;32m-> 1407\u001b[0m \u001b[38;5;28mself\u001b[39m\u001b[38;5;241m.\u001b[39m_engine \u001b[38;5;241m=\u001b[39m \u001b[38;5;28mself\u001b[39m\u001b[38;5;241m.\u001b[39m_make_engine(f, \u001b[38;5;28mself\u001b[39m\u001b[38;5;241m.\u001b[39mengine)\n",
      "File \u001b[1;32m~\\anaconda3\\Lib\\site-packages\\pandas\\io\\parsers\\readers.py:1661\u001b[0m, in \u001b[0;36mTextFileReader._make_engine\u001b[1;34m(self, f, engine)\u001b[0m\n\u001b[0;32m   1659\u001b[0m     \u001b[38;5;28;01mif\u001b[39;00m \u001b[38;5;124m\"\u001b[39m\u001b[38;5;124mb\u001b[39m\u001b[38;5;124m\"\u001b[39m \u001b[38;5;129;01mnot\u001b[39;00m \u001b[38;5;129;01min\u001b[39;00m mode:\n\u001b[0;32m   1660\u001b[0m         mode \u001b[38;5;241m+\u001b[39m\u001b[38;5;241m=\u001b[39m \u001b[38;5;124m\"\u001b[39m\u001b[38;5;124mb\u001b[39m\u001b[38;5;124m\"\u001b[39m\n\u001b[1;32m-> 1661\u001b[0m \u001b[38;5;28mself\u001b[39m\u001b[38;5;241m.\u001b[39mhandles \u001b[38;5;241m=\u001b[39m get_handle(\n\u001b[0;32m   1662\u001b[0m     f,\n\u001b[0;32m   1663\u001b[0m     mode,\n\u001b[0;32m   1664\u001b[0m     encoding\u001b[38;5;241m=\u001b[39m\u001b[38;5;28mself\u001b[39m\u001b[38;5;241m.\u001b[39moptions\u001b[38;5;241m.\u001b[39mget(\u001b[38;5;124m\"\u001b[39m\u001b[38;5;124mencoding\u001b[39m\u001b[38;5;124m\"\u001b[39m, \u001b[38;5;28;01mNone\u001b[39;00m),\n\u001b[0;32m   1665\u001b[0m     compression\u001b[38;5;241m=\u001b[39m\u001b[38;5;28mself\u001b[39m\u001b[38;5;241m.\u001b[39moptions\u001b[38;5;241m.\u001b[39mget(\u001b[38;5;124m\"\u001b[39m\u001b[38;5;124mcompression\u001b[39m\u001b[38;5;124m\"\u001b[39m, \u001b[38;5;28;01mNone\u001b[39;00m),\n\u001b[0;32m   1666\u001b[0m     memory_map\u001b[38;5;241m=\u001b[39m\u001b[38;5;28mself\u001b[39m\u001b[38;5;241m.\u001b[39moptions\u001b[38;5;241m.\u001b[39mget(\u001b[38;5;124m\"\u001b[39m\u001b[38;5;124mmemory_map\u001b[39m\u001b[38;5;124m\"\u001b[39m, \u001b[38;5;28;01mFalse\u001b[39;00m),\n\u001b[0;32m   1667\u001b[0m     is_text\u001b[38;5;241m=\u001b[39mis_text,\n\u001b[0;32m   1668\u001b[0m     errors\u001b[38;5;241m=\u001b[39m\u001b[38;5;28mself\u001b[39m\u001b[38;5;241m.\u001b[39moptions\u001b[38;5;241m.\u001b[39mget(\u001b[38;5;124m\"\u001b[39m\u001b[38;5;124mencoding_errors\u001b[39m\u001b[38;5;124m\"\u001b[39m, \u001b[38;5;124m\"\u001b[39m\u001b[38;5;124mstrict\u001b[39m\u001b[38;5;124m\"\u001b[39m),\n\u001b[0;32m   1669\u001b[0m     storage_options\u001b[38;5;241m=\u001b[39m\u001b[38;5;28mself\u001b[39m\u001b[38;5;241m.\u001b[39moptions\u001b[38;5;241m.\u001b[39mget(\u001b[38;5;124m\"\u001b[39m\u001b[38;5;124mstorage_options\u001b[39m\u001b[38;5;124m\"\u001b[39m, \u001b[38;5;28;01mNone\u001b[39;00m),\n\u001b[0;32m   1670\u001b[0m )\n\u001b[0;32m   1671\u001b[0m \u001b[38;5;28;01massert\u001b[39;00m \u001b[38;5;28mself\u001b[39m\u001b[38;5;241m.\u001b[39mhandles \u001b[38;5;129;01mis\u001b[39;00m \u001b[38;5;129;01mnot\u001b[39;00m \u001b[38;5;28;01mNone\u001b[39;00m\n\u001b[0;32m   1672\u001b[0m f \u001b[38;5;241m=\u001b[39m \u001b[38;5;28mself\u001b[39m\u001b[38;5;241m.\u001b[39mhandles\u001b[38;5;241m.\u001b[39mhandle\n",
      "File \u001b[1;32m~\\anaconda3\\Lib\\site-packages\\pandas\\io\\common.py:859\u001b[0m, in \u001b[0;36mget_handle\u001b[1;34m(path_or_buf, mode, encoding, compression, memory_map, is_text, errors, storage_options)\u001b[0m\n\u001b[0;32m    854\u001b[0m \u001b[38;5;28;01melif\u001b[39;00m \u001b[38;5;28misinstance\u001b[39m(handle, \u001b[38;5;28mstr\u001b[39m):\n\u001b[0;32m    855\u001b[0m     \u001b[38;5;66;03m# Check whether the filename is to be opened in binary mode.\u001b[39;00m\n\u001b[0;32m    856\u001b[0m     \u001b[38;5;66;03m# Binary mode does not support 'encoding' and 'newline'.\u001b[39;00m\n\u001b[0;32m    857\u001b[0m     \u001b[38;5;28;01mif\u001b[39;00m ioargs\u001b[38;5;241m.\u001b[39mencoding \u001b[38;5;129;01mand\u001b[39;00m \u001b[38;5;124m\"\u001b[39m\u001b[38;5;124mb\u001b[39m\u001b[38;5;124m\"\u001b[39m \u001b[38;5;129;01mnot\u001b[39;00m \u001b[38;5;129;01min\u001b[39;00m ioargs\u001b[38;5;241m.\u001b[39mmode:\n\u001b[0;32m    858\u001b[0m         \u001b[38;5;66;03m# Encoding\u001b[39;00m\n\u001b[1;32m--> 859\u001b[0m         handle \u001b[38;5;241m=\u001b[39m \u001b[38;5;28mopen\u001b[39m(\n\u001b[0;32m    860\u001b[0m             handle,\n\u001b[0;32m    861\u001b[0m             ioargs\u001b[38;5;241m.\u001b[39mmode,\n\u001b[0;32m    862\u001b[0m             encoding\u001b[38;5;241m=\u001b[39mioargs\u001b[38;5;241m.\u001b[39mencoding,\n\u001b[0;32m    863\u001b[0m             errors\u001b[38;5;241m=\u001b[39merrors,\n\u001b[0;32m    864\u001b[0m             newline\u001b[38;5;241m=\u001b[39m\u001b[38;5;124m\"\u001b[39m\u001b[38;5;124m\"\u001b[39m,\n\u001b[0;32m    865\u001b[0m         )\n\u001b[0;32m    866\u001b[0m     \u001b[38;5;28;01melse\u001b[39;00m:\n\u001b[0;32m    867\u001b[0m         \u001b[38;5;66;03m# Binary mode\u001b[39;00m\n\u001b[0;32m    868\u001b[0m         handle \u001b[38;5;241m=\u001b[39m \u001b[38;5;28mopen\u001b[39m(handle, ioargs\u001b[38;5;241m.\u001b[39mmode)\n",
      "\u001b[1;31mFileNotFoundError\u001b[0m: [Errno 2] No such file or directory: 'C:\\\\Users\\\\thema\\\\OneDrive\\\\Projects\\\\__CTP4900__\\\\Data\\\\world_Bank.csv'"
     ]
    }
   ],
   "source": [
    "df = pd.read_csv(r\"C:\\Users\\thema\\OneDrive\\Projects\\__CTP4900__\\Data\\world_Bank.csv\")"
   ]
  },
  {
   "cell_type": "code",
   "execution_count": null,
   "id": "4e24927c",
   "metadata": {},
   "outputs": [],
   "source": [
    "df.head(10)"
   ]
  },
  {
   "cell_type": "markdown",
   "id": "c848199a",
   "metadata": {},
   "source": [
    "## Modify the dataframe to better fit the model"
   ]
  },
  {
   "cell_type": "code",
   "execution_count": null,
   "id": "a0581815",
   "metadata": {},
   "outputs": [],
   "source": [
    "df_melt = pd.melt(df, id_vars=['Series Name', 'Series Code', 'Country Name', 'Country Code'], \n",
    "                  var_name='Year', value_name='Value')"
   ]
  },
  {
   "cell_type": "code",
   "execution_count": null,
   "id": "e251ba6f",
   "metadata": {},
   "outputs": [],
   "source": [
    "df_melt.head()"
   ]
  },
  {
   "cell_type": "code",
   "execution_count": null,
   "id": "c8c72266",
   "metadata": {},
   "outputs": [],
   "source": [
    "df_melt['Year'] = df_melt['Year'].str.extract('(\\d{4})')[0]"
   ]
  },
  {
   "cell_type": "code",
   "execution_count": null,
   "id": "aeec296a",
   "metadata": {},
   "outputs": [],
   "source": [
    "df_restructured = df_melt.pivot_table(index=['Country Name', 'Country Code', 'Year'], \n",
    "                                      columns='Series Name', \n",
    "                                      values='Value', \n",
    "                                      aggfunc='first').reset_index()"
   ]
  },
  {
   "cell_type": "code",
   "execution_count": null,
   "id": "d7568043",
   "metadata": {},
   "outputs": [],
   "source": [
    "df_restructured.head()"
   ]
  },
  {
   "cell_type": "code",
   "execution_count": null,
   "id": "1cf6f718",
   "metadata": {},
   "outputs": [],
   "source": [
    "# replace column names to have '_' over ' '\n",
    "df_restructured.columns.name = None  # Remove the name for columns\n",
    "df_restructured.rename(columns=lambda x: x.replace(', ', '_').replace(' ', '_').lower(), inplace=True)"
   ]
  },
  {
   "cell_type": "code",
   "execution_count": null,
   "id": "4aa26ebe",
   "metadata": {},
   "outputs": [],
   "source": [
    "df_restructured = df_restructured.replace('..', np.nan)"
   ]
  },
  {
   "cell_type": "code",
   "execution_count": null,
   "id": "30960f59",
   "metadata": {},
   "outputs": [],
   "source": [
    "columns_to_exclude = ['country_name', 'country_code', 'Series_Name']\n",
    "for column in df_restructured.columns:    \n",
    "    if column not in columns_to_exclude and df_restructured[column].dtype == 'object':\n",
    "        df_restructured[column] = df_restructured[column].astype(float)"
   ]
  },
  {
   "cell_type": "code",
   "execution_count": null,
   "id": "5999eecb",
   "metadata": {},
   "outputs": [],
   "source": [
    "pd.to_csv()"
   ]
  },
  {
   "cell_type": "markdown",
   "id": "4012d33a",
   "metadata": {},
   "source": [
    "## Modelling phase"
   ]
  },
  {
   "cell_type": "markdown",
   "id": "758fad89",
   "metadata": {},
   "source": [
    "### 2nd iteration"
   ]
  },
  {
   "cell_type": "code",
   "execution_count": null,
   "id": "54d80f2a",
   "metadata": {},
   "outputs": [],
   "source": [
    "remove_cols = ['births_attended_by_skilled_health_staff_(%_of_total)',\n",
    " 'co2_emissions_(metric_tons_per_capita)',\n",
    " 'electric_power_consumption_(kwh_per_capita)',\n",
    " 'energy_use_(kg_of_oil_equivalent_per_capita)',\n",
    " 'immunization_measles_(%_of_children_ages_12-23_months)',\n",
    " 'mobile_cellular_subscriptions_(per_100_people)',\n",
    " 'personal_remittances_paid_(current_us$)',\n",
    " 'agriculture_forestry_and_fishing_value_added_(%_of_gdp)',\n",
    " 'exports_of_goods_and_services_(%_of_gdp)',\n",
    " 'gdp_(current_us$)',\n",
    " 'gdp_growth_(annual_%)',\n",
    " 'gdp_per_capita_(current_us$)',\n",
    " 'gross_capital_formation_(%_of_gdp)',\n",
    " 'imports_of_goods_and_services_(%_of_gdp)',\n",
    " 'industry_(including_construction)_value_added_(%_of_gdp)',\n",
    " 'inflation_gdp_deflator_(annual_%)',\n",
    " 'market_capitalization_of_listed_domestic_companies_(%_of_gdp)',\n",
    " 'merchandise_trade_(%_of_gdp)',\n",
    " 'military_expenditure_(%_of_gdp)',\n",
    " 'revenue_excluding_grants_(%_of_gdp)',\n",
    " 'water_productivity_total_(constant_2015_us$_gdp_per_cubic_meter_of_total_freshwater_withdrawal)',\n",
    " 'births_attended_by_skilled_health_staff_(%_of_total)',\n",
    " 'contraceptive_prevalence_any_method_(%_of_married_women_ages_15-49)',\n",
    " 'electric_power_consumption_(kwh_per_capita)',\n",
    " 'energy_use_(kg_of_oil_equivalent_per_capita)',\n",
    " 'external_debt_stocks_total_(dod_current_us$)',\n",
    " 'high-technology_exports_(%_of_manufactured_exports)',\n",
    " 'income_share_held_by_lowest_20%',\n",
    " 'market_capitalization_of_listed_domestic_companies_(%_of_gdp)',\n",
    " 'poverty_headcount_ratio_at_national_poverty_lines_(%_of_population)',\n",
    " 'prevalence_of_underweight_weight_for_age_(%_of_children_under_5)',\n",
    " 'revenue_excluding_grants_(%_of_gdp)',\n",
    " 'total_debt_service_(%_of_gni)']"
   ]
  },
  {
   "cell_type": "code",
   "execution_count": null,
   "id": "a4214424",
   "metadata": {},
   "outputs": [],
   "source": [
    "good_cols = [col for col in df_restructured.columns if col not in remove_cols]\n",
    "good_cols.remove('country_name')\n",
    "good_cols.remove('country_code')\n",
    "good_cols"
   ]
  },
  {
   "cell_type": "code",
   "execution_count": null,
   "id": "641b7d49",
   "metadata": {},
   "outputs": [],
   "source": [
    "df_non_object.columns"
   ]
  },
  {
   "cell_type": "code",
   "execution_count": null,
   "id": "3aa420d1",
   "metadata": {},
   "outputs": [],
   "source": [
    "scaler = StandardScaler()"
   ]
  },
  {
   "cell_type": "code",
   "execution_count": null,
   "id": "1555378c",
   "metadata": {},
   "outputs": [],
   "source": [
    "f = open('summary.txt', 'w')\n",
    "good_features = []\n",
    "df_non_object = df_restructured.select_dtypes(include=[ 'number' ])\n",
    "for col in df_non_object.columns:\n",
    "    df_v2 = df_restructured[[col, 'gdp_(current_us$)']].dropna()\n",
    "    \n",
    "    scaled_array = scaler.fit_transform(df_v2)\n",
    "    df_v2 = pd.DataFrame(scaled_array, columns=df_v2.columns)\n",
    "    \n",
    "    X = df_v2[col]\n",
    "    y = df_v2['gdp_(current_us$)']\n",
    "\n",
    "    X_train, X_test, y_train, y_test = train_test_split(X, y, test_size= 0.2, random_state= 1234)\n",
    "\n",
    "    X_train = sm.add_constant(X_train)\n",
    "    X_test = sm.add_constant(X_test)\n",
    "    \n",
    "    lin_reg = sm.OLS(y_train, X_train).fit()\n",
    "\n",
    "    # Predict on the testing set\n",
    "    y_pred = lin_reg.predict(X_test)\n",
    "\n",
    "    # Calculate MSE using the testing set\n",
    "    mse = ((y_test - y_pred) ** 2).mean()\n",
    "\n",
    "    print(f\"Test RMSE: {math.sqrt(mse)}, mean_val: {y_pred.mean()}\")\n",
    "    print(lin_reg.summary())\n",
    "    f.write(str(lin_reg.summary()))\n",
    "    adjusted_r_squared = lin_reg.rsquared_adj\n",
    "    if adjusted_r_squared > 0.1:\n",
    "        good_features.append(col)"
   ]
  },
  {
   "cell_type": "code",
   "execution_count": null,
   "id": "a6cfa212",
   "metadata": {},
   "outputs": [],
   "source": [
    "y_pred"
   ]
  },
  {
   "cell_type": "code",
   "execution_count": null,
   "id": "67b424f8",
   "metadata": {},
   "outputs": [],
   "source": [
    "good_features"
   ]
  },
  {
   "cell_type": "code",
   "execution_count": null,
   "id": "0004a103",
   "metadata": {},
   "outputs": [],
   "source": [
    "df_v2 = df_restructured[['foreign_direct_investment_net_inflows_(bop_current_us$)',\n",
    " 'external_debt_stocks_total_(dod_current_us$)',\n",
    " 'forest_area_(sq._km)',\n",
    " 'net_migration',\n",
    " 'population_total',\n",
    " 'surface_area_(sq._km)',\n",
    " 'gdp_(current_us$)']].dropna()\n",
    "    \n",
    "scaled_array = scaler.fit_transform(df_v2)\n",
    "df_v2 = pd.DataFrame(scaled_array, columns=df_v2.columns)\n",
    "\n",
    "X = df_v2.drop(columns = 'gdp_(current_us$)')\n",
    "y = df_v2['gdp_(current_us$)']\n",
    "\n",
    "X_train, X_test, y_train, y_test = train_test_split(X, y, test_size= 0.2, random_state= 1234)\n",
    "\n",
    "X_train = sm.add_constant(X_train)\n",
    "X_test = sm.add_constant(X_test)\n",
    "\n",
    "lin_reg = sm.OLS(y_train, X_train).fit()\n",
    "\n",
    "# Predict on the testing set\n",
    "y_pred = lin_reg.predict(X_test)\n",
    "\n",
    "# Calculate MSE using the testing set\n",
    "mse = ((y_test - y_pred) ** 2).mean()\n",
    "\n",
    "print(f\"Test RMSE: {math.sqrt(mse)}, mean_val: {y_pred.mean()}\")\n",
    "print(lin_reg.summary())"
   ]
  },
  {
   "cell_type": "code",
   "execution_count": null,
   "id": "0d4aa8b5",
   "metadata": {},
   "outputs": [],
   "source": []
  }
 ],
 "metadata": {
  "kernelspec": {
   "display_name": "Python 3 (ipykernel)",
   "language": "python",
   "name": "python3"
  },
  "language_info": {
   "codemirror_mode": {
    "name": "ipython",
    "version": 3
   },
   "file_extension": ".py",
   "mimetype": "text/x-python",
   "name": "python",
   "nbconvert_exporter": "python",
   "pygments_lexer": "ipython3",
   "version": "3.11.5"
  }
 },
 "nbformat": 4,
 "nbformat_minor": 5
}
